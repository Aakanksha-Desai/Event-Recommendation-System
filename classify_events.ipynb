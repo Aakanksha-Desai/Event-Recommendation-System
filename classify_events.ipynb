{
 "cells": [
  {
   "cell_type": "code",
   "execution_count": 81,
   "metadata": {},
   "outputs": [
    {
     "name": "stdout",
     "output_type": "stream",
     "text": [
      "0            Higher Education\n",
      "1                        None\n",
      "2                       Other\n",
      "3     Artificial Intelligence\n",
      "4            Higher Education\n",
      "5                  Management\n",
      "6     Artificial Intelligence\n",
      "7                        None\n",
      "8                         IoT\n",
      "9                Data science\n",
      "10                     Coding\n",
      "11                 networking\n",
      "12         mobile application\n",
      "13                     Coding\n",
      "14           Higher Education\n",
      "15                        C++\n",
      "16                       None\n",
      "17                       None\n",
      "18                      Other\n",
      "19                        IoT\n",
      "20            Cloud computing\n",
      "21    Artificial Intelligence\n",
      "22            Web development\n",
      "23                       None\n",
      "24                       none\n",
      "25                     Coding\n",
      "Name: EVENT DOMAIN, dtype: object\n"
     ]
    }
   ],
   "source": [
    "#import event data file\n",
    "import pandas as pd\n",
    "from numpy import array\n",
    "data = pd.read_csv(\"event_data.csv\");\n",
    "X_event = data['EVENT TITLE'];\n",
    "target = data['EVENT DOMAIN'];\n",
    "#print(X_event)\n",
    "print(target)\n",
    "\n"
   ]
  },
  {
   "cell_type": "code",
   "execution_count": 89,
   "metadata": {},
   "outputs": [
    {
     "data": {
      "text/plain": [
       "array(['education', 'seminar', 'on', 'webinar', 'program', 'in',\n",
       "       'special', 'the', 'of', 'opportunities', 'coding', 'at',\n",
       "       'training', 'for'], dtype='<U13')"
      ]
     },
     "execution_count": 89,
     "metadata": {},
     "output_type": "execute_result"
    }
   ],
   "source": [
    "#Data cleaning \n",
    "import string\n",
    "vocab_list = []\n",
    "#table = str.maketrans('','',string.punctuation)\n",
    "\n",
    "#Create vocabulary list containing all the words in event title\n",
    "def processEvent(s):\n",
    "    #remove punctuations\n",
    "    #st = [s.translate(table)]\n",
    "    #convert to lowercase\n",
    "    z = map(lambda x:x.lower(),s)\n",
    "    s = list(z)\n",
    "    #vocab = st\n",
    "    #vocab = [y.split(' ') for y in st]\n",
    "    vocab_list.extend(s)\n",
    "    #print(len(vocab_list))\n",
    "    #print(vocab_list)\n",
    "\n",
    "\n",
    "for i in range(len(X_event)):\n",
    "    y = list(X_event[i].split(' '))\n",
    "    processEvent(y);\n",
    "#print(len(vocab_list))\n",
    "from collections import Counter\n",
    "c = Counter(vocab_list)\n",
    "#vocab_features = []\n",
    "#for i in range(l):\n",
    "#    print(c.most_common(l)[i][1])\n",
    "        \n",
    "\n",
    "#print(c.most_common(189))\n",
    "vocab_1 = Counter(el for el in c.elements() if c[el]>=3)\n",
    "vocab_features = list(vocab_1.keys())\n",
    "vocab_features = array(vocab_features)\n",
    "vocab_features\n",
    "#vocab_features is an array of features\n",
    "\n",
    "l = len(vocab_features)\n"
   ]
  },
  {
   "cell_type": "code",
   "execution_count": null,
   "metadata": {},
   "outputs": [],
   "source": []
  },
  {
   "cell_type": "code",
   "execution_count": null,
   "metadata": {},
   "outputs": [],
   "source": []
  },
  {
   "cell_type": "code",
   "execution_count": null,
   "metadata": {},
   "outputs": [],
   "source": []
  }
 ],
 "metadata": {
  "kernelspec": {
   "display_name": "Python 3",
   "language": "python",
   "name": "python3"
  },
  "language_info": {
   "codemirror_mode": {
    "name": "ipython",
    "version": 3
   },
   "file_extension": ".py",
   "mimetype": "text/x-python",
   "name": "python",
   "nbconvert_exporter": "python",
   "pygments_lexer": "ipython3",
   "version": "3.7.4"
  }
 },
 "nbformat": 4,
 "nbformat_minor": 2
}
