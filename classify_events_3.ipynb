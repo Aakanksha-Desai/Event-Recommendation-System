{
 "cells": [
  {
   "cell_type": "code",
   "execution_count": 73,
   "metadata": {},
   "outputs": [],
   "source": [
    "import numpy as np\n",
    "import pandas as pd\n",
    "from pprint import pprint\n",
    "from time import time\n",
    "\n",
    "from sklearn.feature_extraction.text import TfidfTransformer\n",
    "from sklearn.feature_extraction.text import CountVectorizer\n",
    "#from sklearn.linear_model import SGDClassifier\n",
    "from sklearn.ensemble import RandomForestClassifier\n",
    "from sklearn.model_selection import GridSearchCV\n",
    "from sklearn.pipeline import Pipeline\n",
    "\n",
    "import nltk\n",
    "from nltk.corpus import stopwords\n",
    "from nltk.stem.wordnet import WordNetLemmatizer\n",
    "\n",
    "import csv"
   ]
  },
  {
   "cell_type": "code",
   "execution_count": 50,
   "metadata": {},
   "outputs": [
    {
     "data": {
      "text/html": [
       "<div>\n",
       "<style scoped>\n",
       "    .dataframe tbody tr th:only-of-type {\n",
       "        vertical-align: middle;\n",
       "    }\n",
       "\n",
       "    .dataframe tbody tr th {\n",
       "        vertical-align: top;\n",
       "    }\n",
       "\n",
       "    .dataframe thead th {\n",
       "        text-align: right;\n",
       "    }\n",
       "</style>\n",
       "<table border=\"1\" class=\"dataframe\">\n",
       "  <thead>\n",
       "    <tr style=\"text-align: right;\">\n",
       "      <th></th>\n",
       "      <th>EVENT TITLE</th>\n",
       "      <th>EVENT DOMAIN</th>\n",
       "      <th>EVENT TYPE</th>\n",
       "    </tr>\n",
       "  </thead>\n",
       "  <tbody>\n",
       "    <tr>\n",
       "      <td>0</td>\n",
       "      <td>Times Higher Education Regional Academic Semin...</td>\n",
       "      <td>Higher Education</td>\n",
       "      <td>Seminar</td>\n",
       "    </tr>\n",
       "    <tr>\n",
       "      <td>1</td>\n",
       "      <td>Leadership Seminar by XYZ group</td>\n",
       "      <td>None</td>\n",
       "      <td>Seminar</td>\n",
       "    </tr>\n",
       "    <tr>\n",
       "      <td>2</td>\n",
       "      <td>Seminar on Software Applications, Applied Scie...</td>\n",
       "      <td>Other</td>\n",
       "      <td>Seminar</td>\n",
       "    </tr>\n",
       "    <tr>\n",
       "      <td>3</td>\n",
       "      <td>10th Annual National Expo on Artificial Intell...</td>\n",
       "      <td>Artificial Intelligence</td>\n",
       "      <td>Expo</td>\n",
       "    </tr>\n",
       "    <tr>\n",
       "      <td>4</td>\n",
       "      <td>Webinar on higher education</td>\n",
       "      <td>Higher Education</td>\n",
       "      <td>Webinar</td>\n",
       "    </tr>\n",
       "    <tr>\n",
       "      <td>...</td>\n",
       "      <td>...</td>\n",
       "      <td>...</td>\n",
       "      <td>...</td>\n",
       "    </tr>\n",
       "    <tr>\n",
       "      <td>209</td>\n",
       "      <td>Internship opportunity in data science</td>\n",
       "      <td>Data Science</td>\n",
       "      <td>Internship</td>\n",
       "    </tr>\n",
       "    <tr>\n",
       "      <td>210</td>\n",
       "      <td>Internship opportunity in security</td>\n",
       "      <td>Security</td>\n",
       "      <td>Internship</td>\n",
       "    </tr>\n",
       "    <tr>\n",
       "      <td>211</td>\n",
       "      <td>Internship opportunity in networking</td>\n",
       "      <td>Networking</td>\n",
       "      <td>Internship</td>\n",
       "    </tr>\n",
       "    <tr>\n",
       "      <td>212</td>\n",
       "      <td>Internship opportunity in Cloud computing</td>\n",
       "      <td>Cloud Computing</td>\n",
       "      <td>Internship</td>\n",
       "    </tr>\n",
       "    <tr>\n",
       "      <td>213</td>\n",
       "      <td>Internship in management available now</td>\n",
       "      <td>Management</td>\n",
       "      <td>Internship</td>\n",
       "    </tr>\n",
       "  </tbody>\n",
       "</table>\n",
       "<p>214 rows × 3 columns</p>\n",
       "</div>"
      ],
      "text/plain": [
       "                                           EVENT TITLE  \\\n",
       "0    Times Higher Education Regional Academic Semin...   \n",
       "1                      Leadership Seminar by XYZ group   \n",
       "2    Seminar on Software Applications, Applied Scie...   \n",
       "3    10th Annual National Expo on Artificial Intell...   \n",
       "4                          Webinar on higher education   \n",
       "..                                                 ...   \n",
       "209             Internship opportunity in data science   \n",
       "210                 Internship opportunity in security   \n",
       "211               Internship opportunity in networking   \n",
       "212          Internship opportunity in Cloud computing   \n",
       "213             Internship in management available now   \n",
       "\n",
       "                EVENT DOMAIN  EVENT TYPE  \n",
       "0           Higher Education     Seminar  \n",
       "1                       None     Seminar  \n",
       "2                      Other     Seminar  \n",
       "3    Artificial Intelligence        Expo  \n",
       "4           Higher Education     Webinar  \n",
       "..                       ...         ...  \n",
       "209             Data Science  Internship  \n",
       "210                 Security  Internship  \n",
       "211               Networking  Internship  \n",
       "212          Cloud Computing  Internship  \n",
       "213               Management  Internship  \n",
       "\n",
       "[214 rows x 3 columns]"
      ]
     },
     "execution_count": 50,
     "metadata": {},
     "output_type": "execute_result"
    }
   ],
   "source": [
    "data = pd.read_csv('final_data.csv')\n",
    "data"
   ]
  },
  {
   "cell_type": "code",
   "execution_count": 51,
   "metadata": {},
   "outputs": [
    {
     "data": {
      "text/plain": [
       "Management                 18\n",
       "None                       18\n",
       "Other                      16\n",
       "Security                   15\n",
       "Cloud Computing            13\n",
       "Higher Education           12\n",
       "Blockchain                 11\n",
       "Networking                 11\n",
       "Mobile Application         10\n",
       "IoT                        10\n",
       "Machine Learning            9\n",
       "Coding                      9\n",
       "Software Architecture       9\n",
       "Artificial Intelligence     8\n",
       "C++                         7\n",
       "Data Science                6\n",
       "Web Development             6\n",
       "Java                        4\n",
       "Development Processes       4\n",
       "Hardware                    4\n",
       "Python                      4\n",
       "C                           3\n",
       "Finance                     3\n",
       "Data science                1\n",
       "Cloud computing             1\n",
       "JavaScript                  1\n",
       "Development                 1\n",
       "Name: EVENT DOMAIN, dtype: int64"
      ]
     },
     "execution_count": 51,
     "metadata": {},
     "output_type": "execute_result"
    }
   ],
   "source": [
    "data['EVENT DOMAIN'].value_counts()"
   ]
  },
  {
   "cell_type": "code",
   "execution_count": 52,
   "metadata": {},
   "outputs": [],
   "source": [
    "def pre_process_text(textArray):\n",
    "    wnl = WordNetLemmatizer()\n",
    "    processed_text = []\n",
    "    for text in textArray:\n",
    "        words_list = (str(text).lower()).split()\n",
    "        final_words = [wnl.lemmatize(word) for word in words_list if word not in stopwords.words('english')]\n",
    "        #If using stemming...\n",
    "        #final_words = [stemmer.stem(word) for word in words_list if word not in stopwords.words('english')]\n",
    "        final_words_str = str((\" \".join(final_words)))\n",
    "        processed_text.append(final_words_str)\n",
    "    return processed_text\n",
    "\n",
    "data['EVENT TITLE'] = pre_process_text(data['EVENT TITLE'])\n",
    "#data['EVENT TITLE']\n"
   ]
  },
  {
   "cell_type": "code",
   "execution_count": 19,
   "metadata": {},
   "outputs": [
    {
     "name": "stderr",
     "output_type": "stream",
     "text": [
      "[nltk_data] Downloading package stopwords to\n",
      "[nltk_data]     C:\\Users\\aakan\\AppData\\Roaming\\nltk_data...\n",
      "[nltk_data]   Unzipping corpora\\stopwords.zip.\n"
     ]
    },
    {
     "data": {
      "text/plain": [
       "True"
      ]
     },
     "execution_count": 19,
     "metadata": {},
     "output_type": "execute_result"
    }
   ],
   "source": [
    "import nltk\n",
    "nltk.download('stopwords')"
   ]
  },
  {
   "cell_type": "code",
   "execution_count": 21,
   "metadata": {},
   "outputs": [
    {
     "name": "stderr",
     "output_type": "stream",
     "text": [
      "[nltk_data] Downloading package wordnet to\n",
      "[nltk_data]     C:\\Users\\aakan\\AppData\\Roaming\\nltk_data...\n",
      "[nltk_data]   Unzipping corpora\\wordnet.zip.\n"
     ]
    },
    {
     "data": {
      "text/plain": [
       "True"
      ]
     },
     "execution_count": 21,
     "metadata": {},
     "output_type": "execute_result"
    }
   ],
   "source": [
    "import nltk\n",
    "nltk.download('wordnet')"
   ]
  },
  {
   "cell_type": "code",
   "execution_count": 53,
   "metadata": {},
   "outputs": [],
   "source": [
    "pipeline = Pipeline([\n",
    "    ('vect', CountVectorizer()),\n",
    "    ('tfidf', TfidfTransformer()),\n",
    "    ('clf', RandomForestClassifier()),\n",
    "]);\n"
   ]
  },
  {
   "cell_type": "code",
   "execution_count": 60,
   "metadata": {},
   "outputs": [],
   "source": [
    "parameters = {\n",
    "    'vect__max_df': (0.5, 1.0),#0.6, 0.7, 0.8, 0.9, 1.0),\n",
    "    'vect__max_features': (None, 1000, 5000),#2000, 3000, 4000, 5000, 6000, 10000, 20000, 30000, 40000, 50000),\n",
    "    'vect__ngram_range': ((1, 1), (1, 2)),#, (1, 3)),  # unigrams or bigrams or trigrams\n",
    "    'tfidf__use_idf': (True, False),\n",
    "    'tfidf__norm': ('l1', 'l2'),\n",
    "    #'clf__alpha': (0.1, 0.01, 0.001),#, 0.0001, 0.00001, 0.000001, 0.0000001),\n",
    "    #'clf__penalty': ('l2', 'elasticnet'),\n",
    "    #'clf__n_iter': (10, 50)#, 100, 200, 300, 400, 500, 100),\n",
    "}"
   ]
  },
  {
   "cell_type": "code",
   "execution_count": 61,
   "metadata": {},
   "outputs": [],
   "source": [
    "types = ['Internships','Courses','Fests','Competitions','Jobs','Seminars','Expos','Certifications','Hackathons',\n",
    "              'Talks','Webinars','Trainings','Workshops']\n",
    "domains = ['Security','Other','Cloud Computing','Management','Coding','Python','Mobile Applications',\n",
    "         'IoT','Java','Finance','Networking','Blockchain','C++','Development Processess',\n",
    "         'C','Machine Learning','Web Development','Higher Education',\n",
    "         'Software Architecture','Javascript','Data Science','Hardware','Artificial Intelligence']\n"
   ]
  },
  {
   "cell_type": "code",
   "execution_count": 62,
   "metadata": {},
   "outputs": [
    {
     "name": "stdout",
     "output_type": "stream",
     "text": [
      "Grid Search started\n",
      "---------------------------------------\n",
      "Pipeline: ['vect', 'tfidf', 'clf']\n",
      "Grid Search Parameters:\n",
      "{'tfidf__norm': ('l1', 'l2'),\n",
      " 'tfidf__use_idf': (True, False),\n",
      " 'vect__max_df': (0.5, 1.0),\n",
      " 'vect__max_features': (None, 1000, 5000),\n",
      " 'vect__ngram_range': ((1, 1), (1, 2))}\n",
      "Fitting 3 folds for each of 48 candidates, totalling 144 fits\n"
     ]
    },
    {
     "name": "stderr",
     "output_type": "stream",
     "text": [
      "C:\\Users\\aakan\\AppData\\Local\\Continuum\\anaconda3\\lib\\site-packages\\sklearn\\model_selection\\_split.py:1978: FutureWarning: The default value of cv will change from 3 to 5 in version 0.22. Specify it explicitly to silence this warning.\n",
      "  warnings.warn(CV_WARNING, FutureWarning)\n",
      "C:\\Users\\aakan\\AppData\\Local\\Continuum\\anaconda3\\lib\\site-packages\\sklearn\\model_selection\\_split.py:657: Warning: The least populated class in y has only 1 members, which is too few. The minimum number of members in any class cannot be less than n_splits=3.\n",
      "  % (min_groups, self.n_splits)), Warning)\n",
      "[Parallel(n_jobs=-1)]: Using backend LokyBackend with 8 concurrent workers.\n",
      "[Parallel(n_jobs=-1)]: Done  34 tasks      | elapsed:    3.5s\n"
     ]
    },
    {
     "name": "stdout",
     "output_type": "stream",
     "text": [
      "done in 4.490s\n",
      "----------------------------------------------\n",
      "Best Score: 0.855\n",
      "-------------------------------------------\n",
      "Best Parameters:\n",
      "\ttfidf__norm: 'l1'\n",
      "\ttfidf__use_idf: False\n",
      "\tvect__max_df: 0.5\n",
      "\tvect__max_features: 5000\n",
      "\tvect__ngram_range: (1, 1)\n"
     ]
    },
    {
     "name": "stderr",
     "output_type": "stream",
     "text": [
      "[Parallel(n_jobs=-1)]: Done 129 out of 144 | elapsed:    4.3s remaining:    0.4s\n",
      "[Parallel(n_jobs=-1)]: Done 144 out of 144 | elapsed:    4.3s finished\n",
      "C:\\Users\\aakan\\AppData\\Local\\Continuum\\anaconda3\\lib\\site-packages\\sklearn\\model_selection\\_search.py:814: DeprecationWarning: The default of the `iid` parameter will change from True to False in version 0.22 and will be removed in 0.24. This will change numeric results when test-set sizes are unequal.\n",
      "  DeprecationWarning)\n",
      "C:\\Users\\aakan\\AppData\\Local\\Continuum\\anaconda3\\lib\\site-packages\\sklearn\\ensemble\\forest.py:245: FutureWarning: The default value of n_estimators will change from 10 in version 0.20 to 100 in 0.22.\n",
      "  \"10 in version 0.20 to 100 in 0.22.\", FutureWarning)\n"
     ]
    }
   ],
   "source": [
    "#grid search for event type\n",
    "grid_search_type = GridSearchCV(pipeline, parameters, n_jobs=-1, verbose=1, refit=True)\n",
    "\n",
    "print(\"Grid Search started\\n---------------------------------------\")\n",
    "print(\"Pipeline:\", [name for name, _ in pipeline.steps])\n",
    "print(\"Grid Search Parameters:\")\n",
    "pprint(parameters)\n",
    "t0 = time()\n",
    "grid_search_type.fit(np.array(data['EVENT TITLE']), np.array(data['EVENT TYPE']))\n",
    "print(\"done in %0.3fs\\n----------------------------------------------\" % (time() - t0))\n",
    "\n",
    "print(\"Best Score: %0.3f\\n-------------------------------------------\" % grid_search_type.best_score_)\n",
    "print(\"Best Parameters:\")\n",
    "best_parameters = grid_search_type.best_estimator_.get_params()\n",
    "for param_name in sorted(parameters.keys()):\n",
    "    print(\"\\t%s: %r\" % (param_name, best_parameters[param_name]))\n",
    "    \n",
    "\n",
    "\n"
   ]
  },
  {
   "cell_type": "code",
   "execution_count": 63,
   "metadata": {},
   "outputs": [
    {
     "name": "stdout",
     "output_type": "stream",
     "text": [
      "Grid Search started\n",
      "---------------------------------------\n",
      "Pipeline: ['vect', 'tfidf', 'clf']\n",
      "Grid Search Parameters:\n",
      "{'vect__max_df': (0.5, 1.0), 'vect__max_features': (None, 1000, 5000), 'vect__ngram_range': ((1, 1), (1, 2)), 'tfidf__use_idf': (True, False), 'tfidf__norm': ('l1', 'l2')}\n",
      "Fitting 3 folds for each of 48 candidates, totalling 144 fits\n"
     ]
    },
    {
     "name": "stderr",
     "output_type": "stream",
     "text": [
      "C:\\Users\\aakan\\AppData\\Local\\Continuum\\anaconda3\\lib\\site-packages\\sklearn\\model_selection\\_split.py:1978: FutureWarning: The default value of cv will change from 3 to 5 in version 0.22. Specify it explicitly to silence this warning.\n",
      "  warnings.warn(CV_WARNING, FutureWarning)\n",
      "C:\\Users\\aakan\\AppData\\Local\\Continuum\\anaconda3\\lib\\site-packages\\sklearn\\model_selection\\_split.py:657: Warning: The least populated class in y has only 1 members, which is too few. The minimum number of members in any class cannot be less than n_splits=3.\n",
      "  % (min_groups, self.n_splits)), Warning)\n",
      "[Parallel(n_jobs=-1)]: Using backend LokyBackend with 8 concurrent workers.\n"
     ]
    },
    {
     "name": "stdout",
     "output_type": "stream",
     "text": [
      "done in 1.218s\n",
      "----------------------------------------------\n",
      "Best Score: 0.813\n",
      "-------------------------------------------\n",
      "Best Parameters:\n",
      "\ttfidf__norm: 'l2'\n",
      "\ttfidf__use_idf: False\n",
      "\tvect__max_df: 0.5\n",
      "\tvect__max_features: None\n",
      "\tvect__ngram_range: (1, 1)\n"
     ]
    },
    {
     "name": "stderr",
     "output_type": "stream",
     "text": [
      "[Parallel(n_jobs=-1)]: Done 144 out of 144 | elapsed:    1.1s finished\n",
      "C:\\Users\\aakan\\AppData\\Local\\Continuum\\anaconda3\\lib\\site-packages\\sklearn\\model_selection\\_search.py:814: DeprecationWarning: The default of the `iid` parameter will change from True to False in version 0.22 and will be removed in 0.24. This will change numeric results when test-set sizes are unequal.\n",
      "  DeprecationWarning)\n",
      "C:\\Users\\aakan\\AppData\\Local\\Continuum\\anaconda3\\lib\\site-packages\\sklearn\\ensemble\\forest.py:245: FutureWarning: The default value of n_estimators will change from 10 in version 0.20 to 100 in 0.22.\n",
      "  \"10 in version 0.20 to 100 in 0.22.\", FutureWarning)\n"
     ]
    }
   ],
   "source": [
    "#grid search for event domain\n",
    "grid_search_domain = GridSearchCV(pipeline, parameters, n_jobs=-1, verbose=1, refit=True)\n",
    "\n",
    "print(\"Grid Search started\\n---------------------------------------\")\n",
    "print(\"Pipeline:\", [name for name, _ in pipeline.steps])\n",
    "print(\"Grid Search Parameters:\")\n",
    "print(parameters)\n",
    "t0 = time()\n",
    "grid_search_domain.fit(np.array(data['EVENT TITLE']), np.array(data['EVENT DOMAIN']))\n",
    "print(\"done in %0.3fs\\n----------------------------------------------\" % (time() - t0))\n",
    "\n",
    "print(\"Best Score: %0.3f\\n-------------------------------------------\" % grid_search_domain.best_score_)\n",
    "print(\"Best Parameters:\")\n",
    "best_parameters = grid_search_domain.best_estimator_.get_params()\n",
    "for param_name in sorted(parameters.keys()):\n",
    "    print(\"\\t%s: %r\" % (param_name, best_parameters[param_name]))"
   ]
  },
  {
   "cell_type": "code",
   "execution_count": 68,
   "metadata": {},
   "outputs": [
    {
     "name": "stderr",
     "output_type": "stream",
     "text": [
      "C:\\Users\\aakan\\AppData\\Local\\Continuum\\anaconda3\\lib\\site-packages\\sklearn\\externals\\joblib\\__init__.py:15: DeprecationWarning: sklearn.externals.joblib is deprecated in 0.21 and will be removed in 0.23. Please import this functionality directly from joblib, which can be installed with: pip install joblib. If this warning is raised when loading pickled models, you may need to re-serialize those models with scikit-learn 0.21+.\n",
      "  warnings.warn(msg, category=DeprecationWarning)\n"
     ]
    },
    {
     "data": {
      "text/plain": [
       "['model_type.pkl']"
      ]
     },
     "execution_count": 68,
     "metadata": {},
     "output_type": "execute_result"
    }
   ],
   "source": [
    "from sklearn.externals import joblib\n",
    "joblib.dump(grid_search_domain.best_estimator_,\"model_domain.pkl\")\n",
    "joblib.dump(grid_search_type.best_estimator_,\"model_type.pkl\")"
   ]
  },
  {
   "cell_type": "code",
   "execution_count": 70,
   "metadata": {},
   "outputs": [
    {
     "name": "stdout",
     "output_type": "stream",
     "text": [
      "['Workshop' 'Webinar' 'Talk' 'Courses' 'Internship' 'Fest' 'Courses']\n",
      "['Machine Learning' 'Coding' 'None' 'C++' 'None' 'None' 'Blockchain']\n"
     ]
    }
   ],
   "source": [
    "test_set = np.array([\n",
    "    'join the workshop Machine learning',\n",
    "    'compete coding',\n",
    "    'get coaching now',\n",
    "    'complete the course',\n",
    "    'looking for an internship',\n",
    "    'RE: join the fest now',\n",
    "    'join blockchain certification course now'\n",
    "])\n",
    "\n",
    "predicted_type=(grid_search_type.best_estimator_.predict(np.array(test_set)))\n",
    "predicted_domain=(grid_search_domain.best_estimator_.predict(np.array(test_set)))\n",
    "\n",
    "print(predicted_type)\n",
    "print(predicted_domain)"
   ]
  },
  {
   "cell_type": "code",
   "execution_count": 74,
   "metadata": {},
   "outputs": [
    {
     "name": "stdout",
     "output_type": "stream",
     "text": [
      "join the workshop Machine learning : []\n",
      "compete coding : []\n",
      "get coaching now : []\n",
      "complete the course : ['Curtis Ortega', 'David Foster', 'Christine Potter', 'Julian Sanders', 'Melissa Brown', 'Javier Leblanc', 'Brittney Copeland', 'Michelle Miller', 'Daniel Orozco', 'Michele Campbell', 'Michael Alvarado', 'Peter Wood', 'Dennis Ramirez', 'Mrs. Alexa Henson MD', 'Tracy Mejia', 'Edwin Bowman', 'Michael West', 'Jennifer Merritt', 'Katherine Gonzalez', 'Robert Ramirez', 'Julia Park', 'Jason Anthony', 'Katelyn Barnes']\n",
      "looking for an internship : []\n",
      "RE: join the fest now : []\n",
      "join blockchain certification course now : ['Curtis Ortega', 'David Foster', 'Christine Potter', 'Julian Sanders', 'Melissa Brown', 'Javier Leblanc', 'Brittney Copeland', 'Michelle Miller', 'Daniel Orozco', 'Michele Campbell', 'Michael Alvarado', 'Peter Wood', 'John Pearson', 'Dennis Ramirez', 'Tracy Mejia', 'Edwin Bowman', 'Michael West', 'Jennifer Merritt', 'Katherine Gonzalez', 'Robert Ramirez', 'Michael Rowe', 'Jason Anthony', 'Katelyn Barnes']\n",
      "Writing complete\n"
     ]
    }
   ],
   "source": [
    "emp = pd.read_csv('CCMLEmployeeData.csv')\n",
    "\n",
    "empName=np.array(emp['Name'])\n",
    "empDomain=np.array(emp['Domain'])\n",
    "empEvent1=np.array(emp['Event1'])\n",
    "empEvent2=np.array(emp['Event2'])\n",
    "empData=[]\n",
    "for i in range(empName.shape[0]):\n",
    "    empData.append([empName[i],empDomain[i],empEvent1[i],empEvent2[i]])\n",
    "\n",
    "TypeDomainMatchOutput=[[] for i in range(test_set.shape[0])]\n",
    "OnlyTypeMatchOutput=[[] for i in range(test_set.shape[0])]\n",
    "\n",
    "MatchedEmployees=[\"\" for i in range(test_set.shape[0])]\n",
    "for i in range(0,test_set.shape[0]):\n",
    "    for j in range(0,len(empData)):\n",
    "        if(predicted_type[i] in empData[j] and predicted_domain[i] in empData[j]):\n",
    "            TypeDomainMatchOutput[i].append(empData[j][0])\n",
    "        elif(predicted_type[i] in empData[j]):\n",
    "            OnlyTypeMatchOutput[i].append(empData[j][0])\n",
    "            MatchedEmployees[i]=MatchedEmployees[i]+','+empData[j][0]\n",
    "\n",
    "myData=[[\"Subject\",\"Employee Names\"]]\n",
    "\n",
    "for i in range(0,test_set.shape[0]):\n",
    "    print(test_set[i],\":\",OnlyTypeMatchOutput[i])\n",
    "    myData.append([test_set[i],MatchedEmployees[i]])\n",
    "\n",
    "myFile = open('ClassifierOuput.csv', 'w')\n",
    "with myFile:\n",
    "    writer = csv.writer(myFile)\n",
    "    writer.writerows(myData)\n",
    "\n",
    "print(\"Writing complete\")\n"
   ]
  },
  {
   "cell_type": "code",
   "execution_count": null,
   "metadata": {},
   "outputs": [],
   "source": []
  }
 ],
 "metadata": {
  "kernelspec": {
   "display_name": "Python 3",
   "language": "python",
   "name": "python3"
  },
  "language_info": {
   "codemirror_mode": {
    "name": "ipython",
    "version": 3
   },
   "file_extension": ".py",
   "mimetype": "text/x-python",
   "name": "python",
   "nbconvert_exporter": "python",
   "pygments_lexer": "ipython3",
   "version": "3.7.4"
  }
 },
 "nbformat": 4,
 "nbformat_minor": 2
}
